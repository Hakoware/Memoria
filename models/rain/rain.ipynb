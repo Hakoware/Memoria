{
 "cells": [
  {
   "cell_type": "code",
   "execution_count": 1,
   "metadata": {},
   "outputs": [],
   "source": [
    "import pandas as pd\n",
    "import seaborn as sns\n",
    "import matplotlib.pyplot as plt\n",
    "import numpy as np"
   ]
  },
  {
   "cell_type": "code",
   "execution_count": 2,
   "metadata": {},
   "outputs": [],
   "source": [
    "def cargar_dataset(file_path):\n",
    "    dataset = pd.read_csv(file_path)\n",
    "    print(\"Dataset cargado correctamente.\")\n",
    "    return dataset"
   ]
  },
  {
   "cell_type": "code",
   "execution_count": 3,
   "metadata": {},
   "outputs": [],
   "source": [
    "def eliminar_columnas(df, columns_to_drop):\n",
    "    df_cleaned = df.drop(columns=columns_to_drop)\n",
    "    print(f\"Columnas eliminadas: {columns_to_drop}\")\n",
    "    return df_cleaned"
   ]
  },
  {
   "cell_type": "code",
   "execution_count": 4,
   "metadata": {},
   "outputs": [],
   "source": [
    "file_path = 'data_rain.csv'  \n",
    "columns_to_drop = [\n",
    "    'Date', 'Location', 'MinTemp', 'MaxTemp', 'Humidity9am', \n",
    "    'Humidity3pm', 'Pressure9am', 'Pressure3pm', 'Cloud9am', \n",
    "    'Cloud3pm', 'Temp9am', 'Temp3pm', 'RainToday', 'RainTomorrow'\n",
    "]"
   ]
  },
  {
   "cell_type": "code",
   "execution_count": 5,
   "metadata": {},
   "outputs": [
    {
     "name": "stdout",
     "output_type": "stream",
     "text": [
      "Dataset cargado correctamente.\n",
      "Columnas eliminadas: ['Date', 'Location', 'MinTemp', 'MaxTemp', 'Humidity9am', 'Humidity3pm', 'Pressure9am', 'Pressure3pm', 'Cloud9am', 'Cloud3pm', 'Temp9am', 'Temp3pm', 'RainToday', 'RainTomorrow']\n"
     ]
    },
    {
     "data": {
      "text/html": [
       "<div>\n",
       "<style scoped>\n",
       "    .dataframe tbody tr th:only-of-type {\n",
       "        vertical-align: middle;\n",
       "    }\n",
       "\n",
       "    .dataframe tbody tr th {\n",
       "        vertical-align: top;\n",
       "    }\n",
       "\n",
       "    .dataframe thead th {\n",
       "        text-align: right;\n",
       "    }\n",
       "</style>\n",
       "<table border=\"1\" class=\"dataframe\">\n",
       "  <thead>\n",
       "    <tr style=\"text-align: right;\">\n",
       "      <th></th>\n",
       "      <th>Rainfall</th>\n",
       "      <th>Evaporation</th>\n",
       "      <th>Sunshine</th>\n",
       "      <th>WindGustDir</th>\n",
       "      <th>WindGustSpeed</th>\n",
       "      <th>WindDir9am</th>\n",
       "      <th>WindDir3pm</th>\n",
       "      <th>WindSpeed9am</th>\n",
       "      <th>WindSpeed3pm</th>\n",
       "    </tr>\n",
       "  </thead>\n",
       "  <tbody>\n",
       "    <tr>\n",
       "      <th>0</th>\n",
       "      <td>0.6</td>\n",
       "      <td>NaN</td>\n",
       "      <td>NaN</td>\n",
       "      <td>W</td>\n",
       "      <td>44.0</td>\n",
       "      <td>W</td>\n",
       "      <td>WNW</td>\n",
       "      <td>20.0</td>\n",
       "      <td>24.0</td>\n",
       "    </tr>\n",
       "    <tr>\n",
       "      <th>1</th>\n",
       "      <td>0.0</td>\n",
       "      <td>NaN</td>\n",
       "      <td>NaN</td>\n",
       "      <td>WNW</td>\n",
       "      <td>44.0</td>\n",
       "      <td>NNW</td>\n",
       "      <td>WSW</td>\n",
       "      <td>4.0</td>\n",
       "      <td>22.0</td>\n",
       "    </tr>\n",
       "    <tr>\n",
       "      <th>2</th>\n",
       "      <td>0.0</td>\n",
       "      <td>NaN</td>\n",
       "      <td>NaN</td>\n",
       "      <td>WSW</td>\n",
       "      <td>46.0</td>\n",
       "      <td>W</td>\n",
       "      <td>WSW</td>\n",
       "      <td>19.0</td>\n",
       "      <td>26.0</td>\n",
       "    </tr>\n",
       "    <tr>\n",
       "      <th>3</th>\n",
       "      <td>0.0</td>\n",
       "      <td>NaN</td>\n",
       "      <td>NaN</td>\n",
       "      <td>NE</td>\n",
       "      <td>24.0</td>\n",
       "      <td>SE</td>\n",
       "      <td>E</td>\n",
       "      <td>11.0</td>\n",
       "      <td>9.0</td>\n",
       "    </tr>\n",
       "    <tr>\n",
       "      <th>4</th>\n",
       "      <td>1.0</td>\n",
       "      <td>NaN</td>\n",
       "      <td>NaN</td>\n",
       "      <td>W</td>\n",
       "      <td>41.0</td>\n",
       "      <td>ENE</td>\n",
       "      <td>NW</td>\n",
       "      <td>7.0</td>\n",
       "      <td>20.0</td>\n",
       "    </tr>\n",
       "  </tbody>\n",
       "</table>\n",
       "</div>"
      ],
      "text/plain": [
       "   Rainfall  Evaporation  Sunshine WindGustDir  WindGustSpeed WindDir9am  \\\n",
       "0       0.6          NaN       NaN           W           44.0          W   \n",
       "1       0.0          NaN       NaN         WNW           44.0        NNW   \n",
       "2       0.0          NaN       NaN         WSW           46.0          W   \n",
       "3       0.0          NaN       NaN          NE           24.0         SE   \n",
       "4       1.0          NaN       NaN           W           41.0        ENE   \n",
       "\n",
       "  WindDir3pm  WindSpeed9am  WindSpeed3pm  \n",
       "0        WNW          20.0          24.0  \n",
       "1        WSW           4.0          22.0  \n",
       "2        WSW          19.0          26.0  \n",
       "3          E          11.0           9.0  \n",
       "4         NW           7.0          20.0  "
      ]
     },
     "execution_count": 5,
     "metadata": {},
     "output_type": "execute_result"
    }
   ],
   "source": [
    "dataset = cargar_dataset(file_path)\n",
    "dataset_cleaned = eliminar_columnas(dataset, columns_to_drop)\n",
    "dataset_cleaned.head()"
   ]
  },
  {
   "cell_type": "code",
   "execution_count": 6,
   "metadata": {},
   "outputs": [],
   "source": [
    "def filtrar_y_convertir_direccion(df, columnas_a_filtrar, columna_direccion, diccionario_conversion):\n",
    "\n",
    "    df_filtrado = df[columnas_a_filtrar].copy()\n",
    "    df_filtrado[f'{columna_direccion}Degrees'] = df_filtrado[columna_direccion].map(diccionario_conversion)\n",
    "    return df_filtrado"
   ]
  },
  {
   "cell_type": "code",
   "execution_count": 7,
   "metadata": {},
   "outputs": [],
   "source": [
    "wind_direction_to_degrees = {\n",
    "    'N': 0, 'NNE': 22.5, 'NE': 45, 'ENE': 67.5, 'E': 90, 'ESE': 112.5, \n",
    "    'SE': 135, 'SSE': 157.5, 'S': 180, 'SSW': 202.5, 'SW': 225, \n",
    "    'WSW': 247.5, 'W': 270, 'WNW': 292.5, 'NW': 315, 'NNW': 337.5\n",
    "}\n",
    "columnas_a_filtrar = ['Rainfall', 'WindGustDir', 'WindGustSpeed']"
   ]
  },
  {
   "cell_type": "code",
   "execution_count": 8,
   "metadata": {},
   "outputs": [],
   "source": [
    "filtered_dataset = filtrar_y_convertir_direccion(\n",
    "    dataset, \n",
    "    columnas_a_filtrar, \n",
    "    'WindGustDir', \n",
    "    wind_direction_to_degrees\n",
    ")"
   ]
  },
  {
   "cell_type": "code",
   "execution_count": 9,
   "metadata": {},
   "outputs": [
    {
     "data": {
      "text/html": [
       "<div>\n",
       "<style scoped>\n",
       "    .dataframe tbody tr th:only-of-type {\n",
       "        vertical-align: middle;\n",
       "    }\n",
       "\n",
       "    .dataframe tbody tr th {\n",
       "        vertical-align: top;\n",
       "    }\n",
       "\n",
       "    .dataframe thead th {\n",
       "        text-align: right;\n",
       "    }\n",
       "</style>\n",
       "<table border=\"1\" class=\"dataframe\">\n",
       "  <thead>\n",
       "    <tr style=\"text-align: right;\">\n",
       "      <th></th>\n",
       "      <th>Rainfall</th>\n",
       "      <th>WindGustDir</th>\n",
       "      <th>WindGustSpeed</th>\n",
       "      <th>WindGustDirDegrees</th>\n",
       "    </tr>\n",
       "  </thead>\n",
       "  <tbody>\n",
       "    <tr>\n",
       "      <th>0</th>\n",
       "      <td>0.6</td>\n",
       "      <td>W</td>\n",
       "      <td>44.0</td>\n",
       "      <td>270.0</td>\n",
       "    </tr>\n",
       "    <tr>\n",
       "      <th>1</th>\n",
       "      <td>0.0</td>\n",
       "      <td>WNW</td>\n",
       "      <td>44.0</td>\n",
       "      <td>292.5</td>\n",
       "    </tr>\n",
       "    <tr>\n",
       "      <th>2</th>\n",
       "      <td>0.0</td>\n",
       "      <td>WSW</td>\n",
       "      <td>46.0</td>\n",
       "      <td>247.5</td>\n",
       "    </tr>\n",
       "    <tr>\n",
       "      <th>3</th>\n",
       "      <td>0.0</td>\n",
       "      <td>NE</td>\n",
       "      <td>24.0</td>\n",
       "      <td>45.0</td>\n",
       "    </tr>\n",
       "    <tr>\n",
       "      <th>4</th>\n",
       "      <td>1.0</td>\n",
       "      <td>W</td>\n",
       "      <td>41.0</td>\n",
       "      <td>270.0</td>\n",
       "    </tr>\n",
       "  </tbody>\n",
       "</table>\n",
       "</div>"
      ],
      "text/plain": [
       "   Rainfall WindGustDir  WindGustSpeed  WindGustDirDegrees\n",
       "0       0.6           W           44.0               270.0\n",
       "1       0.0         WNW           44.0               292.5\n",
       "2       0.0         WSW           46.0               247.5\n",
       "3       0.0          NE           24.0                45.0\n",
       "4       1.0           W           41.0               270.0"
      ]
     },
     "execution_count": 9,
     "metadata": {},
     "output_type": "execute_result"
    }
   ],
   "source": [
    "filtered_dataset.head()"
   ]
  },
  {
   "cell_type": "code",
   "execution_count": 10,
   "metadata": {},
   "outputs": [
    {
     "name": "stdout",
     "output_type": "stream",
     "text": [
      "\n",
      "Valores nulos por columna en el dataset:\n",
      "Rainfall               3261\n",
      "WindGustDir           10326\n",
      "WindGustSpeed         10263\n",
      "WindGustDirDegrees    10326\n",
      "dtype: int64\n",
      "\n",
      "Información del dataset:\n",
      "<class 'pandas.core.frame.DataFrame'>\n",
      "RangeIndex: 145460 entries, 0 to 145459\n",
      "Data columns (total 4 columns):\n",
      " #   Column              Non-Null Count   Dtype  \n",
      "---  ------              --------------   -----  \n",
      " 0   Rainfall            142199 non-null  float64\n",
      " 1   WindGustDir         135134 non-null  object \n",
      " 2   WindGustSpeed       135197 non-null  float64\n",
      " 3   WindGustDirDegrees  135134 non-null  float64\n",
      "dtypes: float64(3), object(1)\n",
      "memory usage: 4.4+ MB\n",
      "None\n"
     ]
    }
   ],
   "source": [
    "def verificar_y_resumir_dataset(df):\n",
    "\n",
    "    print(\"\\nValores nulos por columna en el dataset:\")\n",
    "    print(df.isnull().sum())\n",
    "\n",
    "    print(\"\\nInformación del dataset:\")\n",
    "    print(df.info())\n",
    "\n",
    "verificar_y_resumir_dataset(filtered_dataset)"
   ]
  },
  {
   "cell_type": "code",
   "execution_count": 11,
   "metadata": {},
   "outputs": [
    {
     "data": {
      "image/png": "[encoded data removed]",
      "text/plain": [
       "<Figure size 800x600 with 2 Axes>"
      ]
     },
     "metadata": {},
     "output_type": "display_data"
    }
   ],
   "source": [
    "def calcular_y_graficar_correlacion(df, columnas_numericas):\n",
    "\n",
    "    df_numeric = df[columnas_numericas]\n",
    "    correlation_matrix = df_numeric.corr()\n",
    "\n",
    "    plt.figure(figsize=(8, 6))\n",
    "    sns.heatmap(correlation_matrix, annot=True, cmap=\"coolwarm\", fmt=\".2f\")\n",
    "    plt.title('Correlation Matrix')\n",
    "    plt.show()\n",
    "\n",
    "    return correlation_matrix\n",
    "\n",
    "columnas_numericas = ['Rainfall', 'WindGustDirDegrees', 'WindGustSpeed']\n",
    "matriz_correlacion = calcular_y_graficar_correlacion(filtered_dataset, columnas_numericas)"
   ]
  },
  {
   "cell_type": "markdown",
   "metadata": {},
   "source": [
    "##  Force over lifetime"
   ]
  },
  {
   "cell_type": "code",
   "execution_count": 12,
   "metadata": {},
   "outputs": [
    {
     "name": "stdout",
     "output_type": "stream",
     "text": [
      "\n",
      "Dataset después de eliminar filas con valores nulos:\n",
      "<class 'pandas.core.frame.DataFrame'>\n",
      "Index: 132474 entries, 0 to 145458\n",
      "Data columns (total 4 columns):\n",
      " #   Column              Non-Null Count   Dtype  \n",
      "---  ------              --------------   -----  \n",
      " 0   Rainfall            132474 non-null  float64\n",
      " 1   WindGustDir         132474 non-null  object \n",
      " 2   WindGustSpeed       132474 non-null  float64\n",
      " 3   WindGustDirDegrees  132474 non-null  float64\n",
      "dtypes: float64(3), object(1)\n",
      "memory usage: 5.1+ MB\n",
      "None\n"
     ]
    }
   ],
   "source": [
    "def limpiar_y_resumir_dataset(df):\n",
    "    \n",
    "    df_limpio = df.dropna()\n",
    "\n",
    "    print(\"\\nDataset después de eliminar filas con valores nulos:\")\n",
    "    print(df_limpio.info())\n",
    "\n",
    "    return df_limpio\n",
    "\n",
    "filtered_dataset_clean = limpiar_y_resumir_dataset(filtered_dataset)"
   ]
  },
  {
   "cell_type": "code",
   "execution_count": 13,
   "metadata": {},
   "outputs": [
    {
     "data": {
      "text/html": [
       "<div>\n",
       "<style scoped>\n",
       "    .dataframe tbody tr th:only-of-type {\n",
       "        vertical-align: middle;\n",
       "    }\n",
       "\n",
       "    .dataframe tbody tr th {\n",
       "        vertical-align: top;\n",
       "    }\n",
       "\n",
       "    .dataframe thead th {\n",
       "        text-align: right;\n",
       "    }\n",
       "</style>\n",
       "<table border=\"1\" class=\"dataframe\">\n",
       "  <thead>\n",
       "    <tr style=\"text-align: right;\">\n",
       "      <th></th>\n",
       "      <th>Rainfall</th>\n",
       "      <th>WindGustDir</th>\n",
       "      <th>WindGustSpeed</th>\n",
       "      <th>WindGustDirDegrees</th>\n",
       "    </tr>\n",
       "  </thead>\n",
       "  <tbody>\n",
       "    <tr>\n",
       "      <th>0</th>\n",
       "      <td>0.6</td>\n",
       "      <td>W</td>\n",
       "      <td>44.0</td>\n",
       "      <td>270.0</td>\n",
       "    </tr>\n",
       "    <tr>\n",
       "      <th>1</th>\n",
       "      <td>0.0</td>\n",
       "      <td>WNW</td>\n",
       "      <td>44.0</td>\n",
       "      <td>292.5</td>\n",
       "    </tr>\n",
       "    <tr>\n",
       "      <th>2</th>\n",
       "      <td>0.0</td>\n",
       "      <td>WSW</td>\n",
       "      <td>46.0</td>\n",
       "      <td>247.5</td>\n",
       "    </tr>\n",
       "    <tr>\n",
       "      <th>3</th>\n",
       "      <td>0.0</td>\n",
       "      <td>NE</td>\n",
       "      <td>24.0</td>\n",
       "      <td>45.0</td>\n",
       "    </tr>\n",
       "    <tr>\n",
       "      <th>4</th>\n",
       "      <td>1.0</td>\n",
       "      <td>W</td>\n",
       "      <td>41.0</td>\n",
       "      <td>270.0</td>\n",
       "    </tr>\n",
       "  </tbody>\n",
       "</table>\n",
       "</div>"
      ],
      "text/plain": [
       "   Rainfall WindGustDir  WindGustSpeed  WindGustDirDegrees\n",
       "0       0.6           W           44.0               270.0\n",
       "1       0.0         WNW           44.0               292.5\n",
       "2       0.0         WSW           46.0               247.5\n",
       "3       0.0          NE           24.0                45.0\n",
       "4       1.0           W           41.0               270.0"
      ]
     },
     "execution_count": 13,
     "metadata": {},
     "output_type": "execute_result"
    }
   ],
   "source": [
    "filtered_dataset_clean.head()"
   ]
  },
  {
   "cell_type": "code",
   "execution_count": 14,
   "metadata": {},
   "outputs": [],
   "source": [
    "def convertir_grados_a_radianes(df, columna_grados, columna_radianes):\n",
    "   \n",
    "    df[columna_radianes] = np.radians(df[columna_grados])\n",
    "    return df"
   ]
  },
  {
   "cell_type": "code",
   "execution_count": 15,
   "metadata": {},
   "outputs": [],
   "source": [
    " \n",
    "def calcular_componentes_viento(df, columna_velocidad, columna_radianes, columna_x, columna_y):\n",
    "\n",
    "    df[columna_x] = df[columna_velocidad] * np.sin(df[columna_radianes])\n",
    "    df[columna_y] = df[columna_velocidad] * np.cos(df[columna_radianes])\n",
    "    return df"
   ]
  },
  {
   "cell_type": "code",
   "execution_count": 16,
   "metadata": {},
   "outputs": [],
   "source": [
    "def redondear_columnas(df, columnas, decimales):\n",
    "    for columna in columnas:\n",
    "        df[columna] = df[columna].round(decimales)\n",
    "    return df"
   ]
  },
  {
   "cell_type": "code",
   "execution_count": 17,
   "metadata": {},
   "outputs": [],
   "source": [
    "\n",
    "filtered_dataset_clean = filtered_dataset_clean.copy()  \n",
    "filtered_dataset_clean = convertir_grados_a_radianes(filtered_dataset_clean, 'WindGustDirDegrees', 'WindDirRadians')\n",
    "\n",
    "filtered_dataset_clean = calcular_componentes_viento(\n",
    "    filtered_dataset_clean, 'WindGustSpeed', 'WindDirRadians', 'WindX', 'WindY'\n",
    ")\n",
    "filtered_dataset_clean = redondear_columnas(filtered_dataset_clean, ['WindX', 'WindY'], 6)"
   ]
  },
  {
   "cell_type": "code",
   "execution_count": 18,
   "metadata": {},
   "outputs": [
    {
     "data": {
      "text/html": [
       "<div>\n",
       "<style scoped>\n",
       "    .dataframe tbody tr th:only-of-type {\n",
       "        vertical-align: middle;\n",
       "    }\n",
       "\n",
       "    .dataframe tbody tr th {\n",
       "        vertical-align: top;\n",
       "    }\n",
       "\n",
       "    .dataframe thead th {\n",
       "        text-align: right;\n",
       "    }\n",
       "</style>\n",
       "<table border=\"1\" class=\"dataframe\">\n",
       "  <thead>\n",
       "    <tr style=\"text-align: right;\">\n",
       "      <th></th>\n",
       "      <th>Rainfall</th>\n",
       "      <th>WindGustDir</th>\n",
       "      <th>WindGustSpeed</th>\n",
       "      <th>WindGustDirDegrees</th>\n",
       "      <th>WindDirRadians</th>\n",
       "      <th>WindX</th>\n",
       "      <th>WindY</th>\n",
       "    </tr>\n",
       "  </thead>\n",
       "  <tbody>\n",
       "    <tr>\n",
       "      <th>0</th>\n",
       "      <td>0.6</td>\n",
       "      <td>W</td>\n",
       "      <td>44.0</td>\n",
       "      <td>270.0</td>\n",
       "      <td>4.712389</td>\n",
       "      <td>-44.000000</td>\n",
       "      <td>-0.000000</td>\n",
       "    </tr>\n",
       "    <tr>\n",
       "      <th>1</th>\n",
       "      <td>0.0</td>\n",
       "      <td>WNW</td>\n",
       "      <td>44.0</td>\n",
       "      <td>292.5</td>\n",
       "      <td>5.105088</td>\n",
       "      <td>-40.650699</td>\n",
       "      <td>16.838071</td>\n",
       "    </tr>\n",
       "    <tr>\n",
       "      <th>2</th>\n",
       "      <td>0.0</td>\n",
       "      <td>WSW</td>\n",
       "      <td>46.0</td>\n",
       "      <td>247.5</td>\n",
       "      <td>4.319690</td>\n",
       "      <td>-42.498458</td>\n",
       "      <td>-17.603438</td>\n",
       "    </tr>\n",
       "    <tr>\n",
       "      <th>3</th>\n",
       "      <td>0.0</td>\n",
       "      <td>NE</td>\n",
       "      <td>24.0</td>\n",
       "      <td>45.0</td>\n",
       "      <td>0.785398</td>\n",
       "      <td>16.970563</td>\n",
       "      <td>16.970563</td>\n",
       "    </tr>\n",
       "    <tr>\n",
       "      <th>4</th>\n",
       "      <td>1.0</td>\n",
       "      <td>W</td>\n",
       "      <td>41.0</td>\n",
       "      <td>270.0</td>\n",
       "      <td>4.712389</td>\n",
       "      <td>-41.000000</td>\n",
       "      <td>-0.000000</td>\n",
       "    </tr>\n",
       "  </tbody>\n",
       "</table>\n",
       "</div>"
      ],
      "text/plain": [
       "   Rainfall WindGustDir  WindGustSpeed  WindGustDirDegrees  WindDirRadians  \\\n",
       "0       0.6           W           44.0               270.0        4.712389   \n",
       "1       0.0         WNW           44.0               292.5        5.105088   \n",
       "2       0.0         WSW           46.0               247.5        4.319690   \n",
       "3       0.0          NE           24.0                45.0        0.785398   \n",
       "4       1.0           W           41.0               270.0        4.712389   \n",
       "\n",
       "       WindX      WindY  \n",
       "0 -44.000000  -0.000000  \n",
       "1 -40.650699  16.838071  \n",
       "2 -42.498458 -17.603438  \n",
       "3  16.970563  16.970563  \n",
       "4 -41.000000  -0.000000  "
      ]
     },
     "execution_count": 18,
     "metadata": {},
     "output_type": "execute_result"
    }
   ],
   "source": [
    "filtered_dataset_clean.head()"
   ]
  },
  {
   "cell_type": "code",
   "execution_count": 19,
   "metadata": {},
   "outputs": [],
   "source": [
    "def filtrar_columnas(df, columnas_a_filtrar):\n",
    "    df_filtrado = df[columnas_a_filtrar].copy()\n",
    "    return df_filtrado"
   ]
  },
  {
   "cell_type": "code",
   "execution_count": 20,
   "metadata": {},
   "outputs": [],
   "source": [
    "def eliminar_filas_por_valor(df, columna, valor):\n",
    "    df_sin_valor = df[df[columna] != valor]\n",
    "    return df_sin_valor"
   ]
  },
  {
   "cell_type": "code",
   "execution_count": 21,
   "metadata": {},
   "outputs": [],
   "source": [
    "columnas_a_filtrar = ['Rainfall', 'WindX', 'WindY', 'WindGustSpeed']\n",
    "filtered_columns_dataset = filtrar_columnas(filtered_dataset_clean, columnas_a_filtrar)\n",
    "filtered_columns_dataset = eliminar_filas_por_valor(filtered_columns_dataset, 'Rainfall', 0)"
   ]
  },
  {
   "cell_type": "code",
   "execution_count": 22,
   "metadata": {},
   "outputs": [
    {
     "data": {
      "text/html": [
       "<div>\n",
       "<style scoped>\n",
       "    .dataframe tbody tr th:only-of-type {\n",
       "        vertical-align: middle;\n",
       "    }\n",
       "\n",
       "    .dataframe tbody tr th {\n",
       "        vertical-align: top;\n",
       "    }\n",
       "\n",
       "    .dataframe thead th {\n",
       "        text-align: right;\n",
       "    }\n",
       "</style>\n",
       "<table border=\"1\" class=\"dataframe\">\n",
       "  <thead>\n",
       "    <tr style=\"text-align: right;\">\n",
       "      <th></th>\n",
       "      <th>Rainfall</th>\n",
       "      <th>WindX</th>\n",
       "      <th>WindY</th>\n",
       "      <th>WindGustSpeed</th>\n",
       "    </tr>\n",
       "  </thead>\n",
       "  <tbody>\n",
       "    <tr>\n",
       "      <th>0</th>\n",
       "      <td>0.6</td>\n",
       "      <td>-44.000000</td>\n",
       "      <td>-0.000000</td>\n",
       "      <td>44.0</td>\n",
       "    </tr>\n",
       "    <tr>\n",
       "      <th>4</th>\n",
       "      <td>1.0</td>\n",
       "      <td>-41.000000</td>\n",
       "      <td>-0.000000</td>\n",
       "      <td>41.0</td>\n",
       "    </tr>\n",
       "    <tr>\n",
       "      <th>5</th>\n",
       "      <td>0.2</td>\n",
       "      <td>-51.737254</td>\n",
       "      <td>21.430272</td>\n",
       "      <td>56.0</td>\n",
       "    </tr>\n",
       "    <tr>\n",
       "      <th>9</th>\n",
       "      <td>1.4</td>\n",
       "      <td>-28.000000</td>\n",
       "      <td>-0.000000</td>\n",
       "      <td>28.0</td>\n",
       "    </tr>\n",
       "    <tr>\n",
       "      <th>11</th>\n",
       "      <td>2.2</td>\n",
       "      <td>11.863186</td>\n",
       "      <td>28.640266</td>\n",
       "      <td>31.0</td>\n",
       "    </tr>\n",
       "  </tbody>\n",
       "</table>\n",
       "</div>"
      ],
      "text/plain": [
       "    Rainfall      WindX      WindY  WindGustSpeed\n",
       "0        0.6 -44.000000  -0.000000           44.0\n",
       "4        1.0 -41.000000  -0.000000           41.0\n",
       "5        0.2 -51.737254  21.430272           56.0\n",
       "9        1.4 -28.000000  -0.000000           28.0\n",
       "11       2.2  11.863186  28.640266           31.0"
      ]
     },
     "execution_count": 22,
     "metadata": {},
     "output_type": "execute_result"
    }
   ],
   "source": [
    "filtered_columns_dataset.head()"
   ]
  },
  {
   "cell_type": "code",
   "execution_count": 25,
   "metadata": {},
   "outputs": [],
   "source": [
    "import pandas as pd\n",
    "\n",
    "def calcular_emission_rate(df, columna_rainfall, min_emission, max_emission):\n",
    "    \n",
    "    min_rainfall = df[columna_rainfall].min()\n",
    "    max_rainfall = df[columna_rainfall].max()\n",
    "\n",
    "    df['EmissionRate'] = min_emission + (\n",
    "        (df[columna_rainfall] - min_rainfall) / (max_rainfall - min_rainfall)\n",
    "    ) * (max_emission - min_emission)\n",
    "\n",
    "    return df"
   ]
  },
  {
   "cell_type": "code",
   "execution_count": 26,
   "metadata": {},
   "outputs": [
    {
     "data": {
      "text/html": [
       "<div>\n",
       "<style scoped>\n",
       "    .dataframe tbody tr th:only-of-type {\n",
       "        vertical-align: middle;\n",
       "    }\n",
       "\n",
       "    .dataframe tbody tr th {\n",
       "        vertical-align: top;\n",
       "    }\n",
       "\n",
       "    .dataframe thead th {\n",
       "        text-align: right;\n",
       "    }\n",
       "</style>\n",
       "<table border=\"1\" class=\"dataframe\">\n",
       "  <thead>\n",
       "    <tr style=\"text-align: right;\">\n",
       "      <th></th>\n",
       "      <th>Rainfall</th>\n",
       "      <th>EmissionRate</th>\n",
       "    </tr>\n",
       "  </thead>\n",
       "  <tbody>\n",
       "    <tr>\n",
       "      <th>0</th>\n",
       "      <td>0.6</td>\n",
       "      <td>512.925170</td>\n",
       "    </tr>\n",
       "    <tr>\n",
       "      <th>4</th>\n",
       "      <td>1.0</td>\n",
       "      <td>523.265306</td>\n",
       "    </tr>\n",
       "    <tr>\n",
       "      <th>5</th>\n",
       "      <td>0.2</td>\n",
       "      <td>502.585034</td>\n",
       "    </tr>\n",
       "    <tr>\n",
       "      <th>9</th>\n",
       "      <td>1.4</td>\n",
       "      <td>533.605442</td>\n",
       "    </tr>\n",
       "    <tr>\n",
       "      <th>11</th>\n",
       "      <td>2.2</td>\n",
       "      <td>554.285714</td>\n",
       "    </tr>\n",
       "  </tbody>\n",
       "</table>\n",
       "</div>"
      ],
      "text/plain": [
       "    Rainfall  EmissionRate\n",
       "0        0.6    512.925170\n",
       "4        1.0    523.265306\n",
       "5        0.2    502.585034\n",
       "9        1.4    533.605442\n",
       "11       2.2    554.285714"
      ]
     },
     "execution_count": 26,
     "metadata": {},
     "output_type": "execute_result"
    }
   ],
   "source": [
    "min_emission_rate = 500\n",
    "max_emission_rate = 10000\n",
    "\n",
    "filtered_columns_dataset = calcular_emission_rate(filtered_columns_dataset, 'Rainfall', min_emission_rate, max_emission_rate)\n",
    "filtered_columns_dataset[['Rainfall', 'EmissionRate']].head()"
   ]
  },
  {
   "cell_type": "code",
   "execution_count": 27,
   "metadata": {},
   "outputs": [
    {
     "data": {
      "text/html": [
       "<div>\n",
       "<style scoped>\n",
       "    .dataframe tbody tr th:only-of-type {\n",
       "        vertical-align: middle;\n",
       "    }\n",
       "\n",
       "    .dataframe tbody tr th {\n",
       "        vertical-align: top;\n",
       "    }\n",
       "\n",
       "    .dataframe thead th {\n",
       "        text-align: right;\n",
       "    }\n",
       "</style>\n",
       "<table border=\"1\" class=\"dataframe\">\n",
       "  <thead>\n",
       "    <tr style=\"text-align: right;\">\n",
       "      <th></th>\n",
       "      <th>Rainfall</th>\n",
       "      <th>WindX</th>\n",
       "      <th>WindY</th>\n",
       "      <th>WindGustSpeed</th>\n",
       "      <th>EmissionRate</th>\n",
       "    </tr>\n",
       "  </thead>\n",
       "  <tbody>\n",
       "    <tr>\n",
       "      <th>0</th>\n",
       "      <td>0.6</td>\n",
       "      <td>-44.000000</td>\n",
       "      <td>-0.000000</td>\n",
       "      <td>44.0</td>\n",
       "      <td>512.925170</td>\n",
       "    </tr>\n",
       "    <tr>\n",
       "      <th>4</th>\n",
       "      <td>1.0</td>\n",
       "      <td>-41.000000</td>\n",
       "      <td>-0.000000</td>\n",
       "      <td>41.0</td>\n",
       "      <td>523.265306</td>\n",
       "    </tr>\n",
       "    <tr>\n",
       "      <th>5</th>\n",
       "      <td>0.2</td>\n",
       "      <td>-51.737254</td>\n",
       "      <td>21.430272</td>\n",
       "      <td>56.0</td>\n",
       "      <td>502.585034</td>\n",
       "    </tr>\n",
       "    <tr>\n",
       "      <th>9</th>\n",
       "      <td>1.4</td>\n",
       "      <td>-28.000000</td>\n",
       "      <td>-0.000000</td>\n",
       "      <td>28.0</td>\n",
       "      <td>533.605442</td>\n",
       "    </tr>\n",
       "    <tr>\n",
       "      <th>11</th>\n",
       "      <td>2.2</td>\n",
       "      <td>11.863186</td>\n",
       "      <td>28.640266</td>\n",
       "      <td>31.0</td>\n",
       "      <td>554.285714</td>\n",
       "    </tr>\n",
       "  </tbody>\n",
       "</table>\n",
       "</div>"
      ],
      "text/plain": [
       "    Rainfall      WindX      WindY  WindGustSpeed  EmissionRate\n",
       "0        0.6 -44.000000  -0.000000           44.0    512.925170\n",
       "4        1.0 -41.000000  -0.000000           41.0    523.265306\n",
       "5        0.2 -51.737254  21.430272           56.0    502.585034\n",
       "9        1.4 -28.000000  -0.000000           28.0    533.605442\n",
       "11       2.2  11.863186  28.640266           31.0    554.285714"
      ]
     },
     "execution_count": 27,
     "metadata": {},
     "output_type": "execute_result"
    }
   ],
   "source": [
    "filtered_columns_dataset.head()"
   ]
  },
  {
   "cell_type": "code",
   "execution_count": 28,
   "metadata": {},
   "outputs": [],
   "source": [
    "def calcular_user_intensity(df, columna_emission, min_emission, max_emission, min_intensity, max_intensity):\n",
    "\n",
    "    df['UserIntensity'] = ((df[columna_emission] - min_emission) / (max_emission - min_emission)) * \\\n",
    "                          (max_intensity - min_intensity) + min_intensity\n",
    "    return df\n",
    "\n",
    "def filtrar_columnas_para_modelo(df, columnas_a_mantener):\n",
    "    return df[columnas_a_mantener]\n",
    "\n",
    "def verificar_valores_nulos(df):\n",
    "    nulos = df.isnull().sum()\n",
    "    print(\"\\nValores nulos por columna:\")\n",
    "    print(nulos)\n",
    "    return nulos"
   ]
  },
  {
   "cell_type": "code",
   "execution_count": 29,
   "metadata": {},
   "outputs": [
    {
     "name": "stdout",
     "output_type": "stream",
     "text": [
      "\n",
      "Valores nulos por columna:\n",
      "Rainfall         0\n",
      "WindGustSpeed    0\n",
      "WindX            0\n",
      "WindY            0\n",
      "EmissionRate     0\n",
      "UserIntensity    0\n",
      "dtype: int64\n"
     ]
    },
    {
     "data": {
      "text/plain": [
       "Rainfall         0\n",
       "WindGustSpeed    0\n",
       "WindX            0\n",
       "WindY            0\n",
       "EmissionRate     0\n",
       "UserIntensity    0\n",
       "dtype: int64"
      ]
     },
     "execution_count": 29,
     "metadata": {},
     "output_type": "execute_result"
    }
   ],
   "source": [
    "\n",
    "min_user_intensity = 0\n",
    "max_user_intensity = 15\n",
    "min_emission_rate = 500\n",
    "max_emission_rate = 10000\n",
    "\n",
    "\n",
    "filtered_columns_dataset = calcular_user_intensity(\n",
    "    filtered_columns_dataset, 'EmissionRate', min_emission_rate, max_emission_rate, \n",
    "    min_user_intensity, max_user_intensity\n",
    ")\n",
    "\n",
    "columns_to_keep = ['Rainfall', 'WindGustSpeed', 'WindX', 'WindY', 'EmissionRate', 'UserIntensity']\n",
    "filtered_columns_dataset = filtrar_columnas_para_modelo(filtered_columns_dataset, columns_to_keep)\n",
    "\n",
    "\n",
    "verificar_valores_nulos(filtered_columns_dataset)\n"
   ]
  },
  {
   "cell_type": "code",
   "execution_count": 30,
   "metadata": {},
   "outputs": [
    {
     "data": {
      "text/html": [
       "<div>\n",
       "<style scoped>\n",
       "    .dataframe tbody tr th:only-of-type {\n",
       "        vertical-align: middle;\n",
       "    }\n",
       "\n",
       "    .dataframe tbody tr th {\n",
       "        vertical-align: top;\n",
       "    }\n",
       "\n",
       "    .dataframe thead th {\n",
       "        text-align: right;\n",
       "    }\n",
       "</style>\n",
       "<table border=\"1\" class=\"dataframe\">\n",
       "  <thead>\n",
       "    <tr style=\"text-align: right;\">\n",
       "      <th></th>\n",
       "      <th>Rainfall</th>\n",
       "      <th>WindGustSpeed</th>\n",
       "      <th>WindX</th>\n",
       "      <th>WindY</th>\n",
       "      <th>EmissionRate</th>\n",
       "      <th>UserIntensity</th>\n",
       "    </tr>\n",
       "  </thead>\n",
       "  <tbody>\n",
       "    <tr>\n",
       "      <th>0</th>\n",
       "      <td>0.6</td>\n",
       "      <td>44.0</td>\n",
       "      <td>-44.000000</td>\n",
       "      <td>-0.000000</td>\n",
       "      <td>512.925170</td>\n",
       "      <td>0.020408</td>\n",
       "    </tr>\n",
       "    <tr>\n",
       "      <th>4</th>\n",
       "      <td>1.0</td>\n",
       "      <td>41.0</td>\n",
       "      <td>-41.000000</td>\n",
       "      <td>-0.000000</td>\n",
       "      <td>523.265306</td>\n",
       "      <td>0.036735</td>\n",
       "    </tr>\n",
       "    <tr>\n",
       "      <th>5</th>\n",
       "      <td>0.2</td>\n",
       "      <td>56.0</td>\n",
       "      <td>-51.737254</td>\n",
       "      <td>21.430272</td>\n",
       "      <td>502.585034</td>\n",
       "      <td>0.004082</td>\n",
       "    </tr>\n",
       "    <tr>\n",
       "      <th>9</th>\n",
       "      <td>1.4</td>\n",
       "      <td>28.0</td>\n",
       "      <td>-28.000000</td>\n",
       "      <td>-0.000000</td>\n",
       "      <td>533.605442</td>\n",
       "      <td>0.053061</td>\n",
       "    </tr>\n",
       "    <tr>\n",
       "      <th>11</th>\n",
       "      <td>2.2</td>\n",
       "      <td>31.0</td>\n",
       "      <td>11.863186</td>\n",
       "      <td>28.640266</td>\n",
       "      <td>554.285714</td>\n",
       "      <td>0.085714</td>\n",
       "    </tr>\n",
       "  </tbody>\n",
       "</table>\n",
       "</div>"
      ],
      "text/plain": [
       "    Rainfall  WindGustSpeed      WindX      WindY  EmissionRate  UserIntensity\n",
       "0        0.6           44.0 -44.000000  -0.000000    512.925170       0.020408\n",
       "4        1.0           41.0 -41.000000  -0.000000    523.265306       0.036735\n",
       "5        0.2           56.0 -51.737254  21.430272    502.585034       0.004082\n",
       "9        1.4           28.0 -28.000000  -0.000000    533.605442       0.053061\n",
       "11       2.2           31.0  11.863186  28.640266    554.285714       0.085714"
      ]
     },
     "execution_count": 30,
     "metadata": {},
     "output_type": "execute_result"
    }
   ],
   "source": [
    "filtered_columns_dataset.head()"
   ]
  },
  {
   "cell_type": "code",
   "execution_count": 31,
   "metadata": {},
   "outputs": [],
   "source": [
    "def obtener_estadisticas_descriptivas(df):\n",
    "\n",
    "    estadisticas = df.describe()\n",
    "    print(\"\\nEstadísticas descriptivas del dataset:\")\n",
    "    print(estadisticas)\n",
    "    return estadisticas\n",
    "\n",
    "def guardar_dataset_csv(df, nombre_archivo):\n",
    "\n",
    "    df.to_csv(nombre_archivo, index=False)\n",
    "    print(f\"\\nEl dataset ha sido guardado como {nombre_archivo}\")"
   ]
  },
  {
   "cell_type": "code",
   "execution_count": 32,
   "metadata": {},
   "outputs": [
    {
     "name": "stdout",
     "output_type": "stream",
     "text": [
      "\n",
      "Estadísticas descriptivas del dataset:\n",
      "           Rainfall  WindGustSpeed         WindX         WindY  EmissionRate  \\\n",
      "count  47272.000000   47272.000000  47272.000000  47272.000000  47272.000000   \n",
      "mean       6.526919      41.919741     -8.332619     -5.103640    666.138034   \n",
      "std       13.055392      14.766851     31.199695     30.107460    337.486334   \n",
      "min        0.100000       6.000000   -126.000000   -135.000000    500.000000   \n",
      "25%        0.400000      31.000000    -32.335784    -28.991378    507.755102   \n",
      "50%        2.000000      41.000000    -10.715136     -7.270985    549.115646   \n",
      "75%        7.000000      50.000000     17.603438     18.477591    678.367347   \n",
      "max      367.600000     135.000000    104.000000    124.723737  10000.000000   \n",
      "\n",
      "       UserIntensity  \n",
      "count   47272.000000  \n",
      "mean        0.262323  \n",
      "std         0.532873  \n",
      "min         0.000000  \n",
      "25%         0.012245  \n",
      "50%         0.077551  \n",
      "75%         0.281633  \n",
      "max        15.000000  \n",
      "\n",
      "El dataset ha sido guardado como dataRain.csv\n"
     ]
    }
   ],
   "source": [
    "obtener_estadisticas_descriptivas(filtered_columns_dataset)\n",
    "file_name = 'dataRain.csv'\n",
    "guardar_dataset_csv(filtered_columns_dataset, file_name)"
   ]
  },
  {
   "cell_type": "code",
   "execution_count": null,
   "metadata": {},
   "outputs": [],
   "source": []
  },
  {
   "cell_type": "code",
   "execution_count": null,
   "metadata": {},
   "outputs": [],
   "source": []
  }
 ],
 "metadata": {
  "kernelspec": {
   "display_name": "base",
   "language": "python",
   "name": "python3"
  },
  "language_info": {
   "codemirror_mode": {
    "name": "ipython",
    "version": 3
   },
   "file_extension": ".py",
   "mimetype": "text/x-python",
   "name": "python",
   "nbconvert_exporter": "python",
   "pygments_lexer": "ipython3",
   "version": "3.9.17"
  }
 },
 "nbformat": 4,
 "nbformat_minor": 2
}
