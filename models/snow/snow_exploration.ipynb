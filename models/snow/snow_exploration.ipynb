{
 "cells": [
  {
   "cell_type": "markdown",
   "metadata": {},
   "source": [
    "## Dataset para la nieve"
   ]
  },
  {
   "cell_type": "code",
   "execution_count": 1,
   "metadata": {},
   "outputs": [],
   "source": [
    "import pandas as pd\n",
    "import seaborn as sns\n",
    "import matplotlib.pyplot as plt\n",
    "import numpy as np"
   ]
  },
  {
   "cell_type": "code",
   "execution_count": 2,
   "metadata": {},
   "outputs": [
    {
     "name": "stdout",
     "output_type": "stream",
     "text": [
      "Dataset filtrado solo con snow: guardado como 'snow_only_dataset.csv'.\n"
     ]
    }
   ],
   "source": [
    "def filtrar_y_guardar_dataset(ruta_del_archivo, tipo_precipitacion, archivo_salida):\n",
    "    df = pd.read_csv(ruta_del_archivo)\n",
    "\n",
    "    df_snow = df[df['Precip Type'] == tipo_precipitacion]\n",
    "    df_snow.to_csv(archivo_salida, index=False)\n",
    "\n",
    "    print(f\"Dataset filtrado solo con {tipo_precipitacion}: guardado como '{archivo_salida}'.\")\n",
    "    return df_snow\n",
    "\n",
    "df_snow = filtrar_y_guardar_dataset('data.csv', 'snow', 'snow_only_dataset.csv')"
   ]
  },
  {
   "cell_type": "code",
   "execution_count": 3,
   "metadata": {},
   "outputs": [
    {
     "data": {
      "text/html": [
       "<div>\n",
       "<style scoped>\n",
       "    .dataframe tbody tr th:only-of-type {\n",
       "        vertical-align: middle;\n",
       "    }\n",
       "\n",
       "    .dataframe tbody tr th {\n",
       "        vertical-align: top;\n",
       "    }\n",
       "\n",
       "    .dataframe thead th {\n",
       "        text-align: right;\n",
       "    }\n",
       "</style>\n",
       "<table border=\"1\" class=\"dataframe\">\n",
       "  <thead>\n",
       "    <tr style=\"text-align: right;\">\n",
       "      <th></th>\n",
       "      <th>Formatted Date</th>\n",
       "      <th>Summary</th>\n",
       "      <th>Precip Type</th>\n",
       "      <th>Temperature (C)</th>\n",
       "      <th>Apparent Temperature (C)</th>\n",
       "      <th>Humidity</th>\n",
       "      <th>Wind Speed (km/h)</th>\n",
       "      <th>Wind Bearing (degrees)</th>\n",
       "      <th>Visibility (km)</th>\n",
       "      <th>Loud Cover</th>\n",
       "      <th>Pressure (millibars)</th>\n",
       "      <th>Daily Summary</th>\n",
       "    </tr>\n",
       "  </thead>\n",
       "  <tbody>\n",
       "    <tr>\n",
       "      <th>1562</th>\n",
       "      <td>2006-12-13 02:00:00.000 +0100</td>\n",
       "      <td>Foggy</td>\n",
       "      <td>snow</td>\n",
       "      <td>-0.483333</td>\n",
       "      <td>-4.150000</td>\n",
       "      <td>1.00</td>\n",
       "      <td>11.0929</td>\n",
       "      <td>219.0</td>\n",
       "      <td>0.483</td>\n",
       "      <td>0.0</td>\n",
       "      <td>1031.56</td>\n",
       "      <td>Foggy throughout the day.</td>\n",
       "    </tr>\n",
       "    <tr>\n",
       "      <th>1563</th>\n",
       "      <td>2006-12-13 03:00:00.000 +0100</td>\n",
       "      <td>Foggy</td>\n",
       "      <td>snow</td>\n",
       "      <td>-0.483333</td>\n",
       "      <td>-4.061111</td>\n",
       "      <td>0.96</td>\n",
       "      <td>10.7387</td>\n",
       "      <td>200.0</td>\n",
       "      <td>0.322</td>\n",
       "      <td>0.0</td>\n",
       "      <td>1031.47</td>\n",
       "      <td>Foggy throughout the day.</td>\n",
       "    </tr>\n",
       "    <tr>\n",
       "      <th>1564</th>\n",
       "      <td>2006-12-13 04:00:00.000 +0100</td>\n",
       "      <td>Foggy</td>\n",
       "      <td>snow</td>\n",
       "      <td>-0.922222</td>\n",
       "      <td>-3.477778</td>\n",
       "      <td>1.00</td>\n",
       "      <td>7.0679</td>\n",
       "      <td>206.0</td>\n",
       "      <td>0.161</td>\n",
       "      <td>0.0</td>\n",
       "      <td>1031.23</td>\n",
       "      <td>Foggy throughout the day.</td>\n",
       "    </tr>\n",
       "    <tr>\n",
       "      <th>1565</th>\n",
       "      <td>2006-12-13 05:00:00.000 +0100</td>\n",
       "      <td>Foggy</td>\n",
       "      <td>snow</td>\n",
       "      <td>-1.038889</td>\n",
       "      <td>-4.400000</td>\n",
       "      <td>1.00</td>\n",
       "      <td>9.4990</td>\n",
       "      <td>199.0</td>\n",
       "      <td>0.161</td>\n",
       "      <td>0.0</td>\n",
       "      <td>1031.41</td>\n",
       "      <td>Foggy throughout the day.</td>\n",
       "    </tr>\n",
       "    <tr>\n",
       "      <th>1566</th>\n",
       "      <td>2006-12-13 06:00:00.000 +0100</td>\n",
       "      <td>Foggy</td>\n",
       "      <td>snow</td>\n",
       "      <td>-1.088889</td>\n",
       "      <td>-4.438889</td>\n",
       "      <td>1.00</td>\n",
       "      <td>9.4346</td>\n",
       "      <td>219.0</td>\n",
       "      <td>0.322</td>\n",
       "      <td>0.0</td>\n",
       "      <td>1031.98</td>\n",
       "      <td>Foggy throughout the day.</td>\n",
       "    </tr>\n",
       "  </tbody>\n",
       "</table>\n",
       "</div>"
      ],
      "text/plain": [
       "                     Formatted Date Summary Precip Type  Temperature (C)  \\\n",
       "1562  2006-12-13 02:00:00.000 +0100   Foggy        snow        -0.483333   \n",
       "1563  2006-12-13 03:00:00.000 +0100   Foggy        snow        -0.483333   \n",
       "1564  2006-12-13 04:00:00.000 +0100   Foggy        snow        -0.922222   \n",
       "1565  2006-12-13 05:00:00.000 +0100   Foggy        snow        -1.038889   \n",
       "1566  2006-12-13 06:00:00.000 +0100   Foggy        snow        -1.088889   \n",
       "\n",
       "      Apparent Temperature (C)  Humidity  Wind Speed (km/h)  \\\n",
       "1562                 -4.150000      1.00            11.0929   \n",
       "1563                 -4.061111      0.96            10.7387   \n",
       "1564                 -3.477778      1.00             7.0679   \n",
       "1565                 -4.400000      1.00             9.4990   \n",
       "1566                 -4.438889      1.00             9.4346   \n",
       "\n",
       "      Wind Bearing (degrees)  Visibility (km)  Loud Cover  \\\n",
       "1562                   219.0            0.483         0.0   \n",
       "1563                   200.0            0.322         0.0   \n",
       "1564                   206.0            0.161         0.0   \n",
       "1565                   199.0            0.161         0.0   \n",
       "1566                   219.0            0.322         0.0   \n",
       "\n",
       "      Pressure (millibars)              Daily Summary  \n",
       "1562               1031.56  Foggy throughout the day.  \n",
       "1563               1031.47  Foggy throughout the day.  \n",
       "1564               1031.23  Foggy throughout the day.  \n",
       "1565               1031.41  Foggy throughout the day.  \n",
       "1566               1031.98  Foggy throughout the day.  "
      ]
     },
     "execution_count": 3,
     "metadata": {},
     "output_type": "execute_result"
    }
   ],
   "source": [
    "df_snow.head()"
   ]
  },
  {
   "cell_type": "code",
   "execution_count": 4,
   "metadata": {},
   "outputs": [],
   "source": [
    "df_snow = df_snow.drop(columns=['Formatted Date', 'Summary', 'Daily Summary', 'Precip Type', 'Loud Cover','Apparent Temperature (C)' ])"
   ]
  },
  {
   "cell_type": "code",
   "execution_count": 5,
   "metadata": {},
   "outputs": [
    {
     "data": {
      "text/html": [
       "<div>\n",
       "<style scoped>\n",
       "    .dataframe tbody tr th:only-of-type {\n",
       "        vertical-align: middle;\n",
       "    }\n",
       "\n",
       "    .dataframe tbody tr th {\n",
       "        vertical-align: top;\n",
       "    }\n",
       "\n",
       "    .dataframe thead th {\n",
       "        text-align: right;\n",
       "    }\n",
       "</style>\n",
       "<table border=\"1\" class=\"dataframe\">\n",
       "  <thead>\n",
       "    <tr style=\"text-align: right;\">\n",
       "      <th></th>\n",
       "      <th>Temperature (C)</th>\n",
       "      <th>Humidity</th>\n",
       "      <th>Wind Speed (km/h)</th>\n",
       "      <th>Wind Bearing (degrees)</th>\n",
       "      <th>Visibility (km)</th>\n",
       "      <th>Pressure (millibars)</th>\n",
       "    </tr>\n",
       "  </thead>\n",
       "  <tbody>\n",
       "    <tr>\n",
       "      <th>1562</th>\n",
       "      <td>-0.483333</td>\n",
       "      <td>1.00</td>\n",
       "      <td>11.0929</td>\n",
       "      <td>219.0</td>\n",
       "      <td>0.483</td>\n",
       "      <td>1031.56</td>\n",
       "    </tr>\n",
       "    <tr>\n",
       "      <th>1563</th>\n",
       "      <td>-0.483333</td>\n",
       "      <td>0.96</td>\n",
       "      <td>10.7387</td>\n",
       "      <td>200.0</td>\n",
       "      <td>0.322</td>\n",
       "      <td>1031.47</td>\n",
       "    </tr>\n",
       "    <tr>\n",
       "      <th>1564</th>\n",
       "      <td>-0.922222</td>\n",
       "      <td>1.00</td>\n",
       "      <td>7.0679</td>\n",
       "      <td>206.0</td>\n",
       "      <td>0.161</td>\n",
       "      <td>1031.23</td>\n",
       "    </tr>\n",
       "    <tr>\n",
       "      <th>1565</th>\n",
       "      <td>-1.038889</td>\n",
       "      <td>1.00</td>\n",
       "      <td>9.4990</td>\n",
       "      <td>199.0</td>\n",
       "      <td>0.161</td>\n",
       "      <td>1031.41</td>\n",
       "    </tr>\n",
       "    <tr>\n",
       "      <th>1566</th>\n",
       "      <td>-1.088889</td>\n",
       "      <td>1.00</td>\n",
       "      <td>9.4346</td>\n",
       "      <td>219.0</td>\n",
       "      <td>0.322</td>\n",
       "      <td>1031.98</td>\n",
       "    </tr>\n",
       "  </tbody>\n",
       "</table>\n",
       "</div>"
      ],
      "text/plain": [
       "      Temperature (C)  Humidity  Wind Speed (km/h)  Wind Bearing (degrees)  \\\n",
       "1562        -0.483333      1.00            11.0929                   219.0   \n",
       "1563        -0.483333      0.96            10.7387                   200.0   \n",
       "1564        -0.922222      1.00             7.0679                   206.0   \n",
       "1565        -1.038889      1.00             9.4990                   199.0   \n",
       "1566        -1.088889      1.00             9.4346                   219.0   \n",
       "\n",
       "      Visibility (km)  Pressure (millibars)  \n",
       "1562            0.483               1031.56  \n",
       "1563            0.322               1031.47  \n",
       "1564            0.161               1031.23  \n",
       "1565            0.161               1031.41  \n",
       "1566            0.322               1031.98  "
      ]
     },
     "execution_count": 5,
     "metadata": {},
     "output_type": "execute_result"
    }
   ],
   "source": [
    "df_snow.head()"
   ]
  },
  {
   "cell_type": "code",
   "execution_count": 6,
   "metadata": {},
   "outputs": [],
   "source": [
    "\n",
    "def matriz_correlacion():\n",
    "\n",
    "    correlation_matrix_snow = df_snow.corr()\n",
    "    plt.figure(figsize=(10, 6))\n",
    "    sns.heatmap(correlation_matrix_snow, annot=True, cmap='coolwarm', fmt='.2f')\n",
    "    plt.title('Matriz de Correlación entre Variables - Dataset Original de Nieve')\n",
    "    plt.show()\n"
   ]
  },
  {
   "cell_type": "code",
   "execution_count": 7,
   "metadata": {},
   "outputs": [
    {
     "data": {
      "image/png": "[encoded data removed]",
      "text/plain": [
       "<Figure size 1000x600 with 2 Axes>"
      ]
     },
     "metadata": {},
     "output_type": "display_data"
    }
   ],
   "source": [
    "matriz_correlacion()"
   ]
  },
  {
   "cell_type": "code",
   "execution_count": 8,
   "metadata": {},
   "outputs": [],
   "source": [
    "df_snow = df_snow.drop(columns=['Pressure (millibars)', 'Wind Bearing (degrees)', 'Temperature (C)'])"
   ]
  },
  {
   "cell_type": "code",
   "execution_count": 9,
   "metadata": {},
   "outputs": [
    {
     "data": {
      "text/html": [
       "<div>\n",
       "<style scoped>\n",
       "    .dataframe tbody tr th:only-of-type {\n",
       "        vertical-align: middle;\n",
       "    }\n",
       "\n",
       "    .dataframe tbody tr th {\n",
       "        vertical-align: top;\n",
       "    }\n",
       "\n",
       "    .dataframe thead th {\n",
       "        text-align: right;\n",
       "    }\n",
       "</style>\n",
       "<table border=\"1\" class=\"dataframe\">\n",
       "  <thead>\n",
       "    <tr style=\"text-align: right;\">\n",
       "      <th></th>\n",
       "      <th>Humidity</th>\n",
       "      <th>Wind Speed (km/h)</th>\n",
       "      <th>Visibility (km)</th>\n",
       "    </tr>\n",
       "  </thead>\n",
       "  <tbody>\n",
       "    <tr>\n",
       "      <th>1562</th>\n",
       "      <td>1.00</td>\n",
       "      <td>11.0929</td>\n",
       "      <td>0.483</td>\n",
       "    </tr>\n",
       "    <tr>\n",
       "      <th>1563</th>\n",
       "      <td>0.96</td>\n",
       "      <td>10.7387</td>\n",
       "      <td>0.322</td>\n",
       "    </tr>\n",
       "    <tr>\n",
       "      <th>1564</th>\n",
       "      <td>1.00</td>\n",
       "      <td>7.0679</td>\n",
       "      <td>0.161</td>\n",
       "    </tr>\n",
       "    <tr>\n",
       "      <th>1565</th>\n",
       "      <td>1.00</td>\n",
       "      <td>9.4990</td>\n",
       "      <td>0.161</td>\n",
       "    </tr>\n",
       "    <tr>\n",
       "      <th>1566</th>\n",
       "      <td>1.00</td>\n",
       "      <td>9.4346</td>\n",
       "      <td>0.322</td>\n",
       "    </tr>\n",
       "  </tbody>\n",
       "</table>\n",
       "</div>"
      ],
      "text/plain": [
       "      Humidity  Wind Speed (km/h)  Visibility (km)\n",
       "1562      1.00            11.0929            0.483\n",
       "1563      0.96            10.7387            0.322\n",
       "1564      1.00             7.0679            0.161\n",
       "1565      1.00             9.4990            0.161\n",
       "1566      1.00             9.4346            0.322"
      ]
     },
     "execution_count": 9,
     "metadata": {},
     "output_type": "execute_result"
    }
   ],
   "source": [
    "df_snow.head()"
   ]
  },
  {
   "cell_type": "code",
   "execution_count": 10,
   "metadata": {},
   "outputs": [
    {
     "name": "stdout",
     "output_type": "stream",
     "text": [
      "                   Min      Max\n",
      "Humidity           0.0   1.0000\n",
      "Wind Speed (km/h)  0.0  44.8868\n",
      "Visibility (km)    0.0  16.1000\n"
     ]
    }
   ],
   "source": [
    "def calcular_min_max(df):\n",
    "    min_values = df.min()\n",
    "    max_values = df.max()\n",
    "\n",
    "    ranges_df = pd.DataFrame({'Min': min_values, 'Max': max_values})\n",
    "\n",
    "    print(ranges_df)\n",
    "\n",
    "    return ranges_df\n",
    "\n",
    "ranges_df = calcular_min_max(df_snow)\n"
   ]
  },
  {
   "cell_type": "code",
   "execution_count": 11,
   "metadata": {},
   "outputs": [
    {
     "data": {
      "image/png": "[encoded data removed]",
      "text/plain": [
       "<Figure size 1000x600 with 2 Axes>"
      ]
     },
     "metadata": {},
     "output_type": "display_data"
    }
   ],
   "source": [
    "matriz_correlacion()"
   ]
  },
  {
   "cell_type": "code",
   "execution_count": 12,
   "metadata": {},
   "outputs": [],
   "source": [
    "\n",
    "\n",
    "def resumen_dataset(df):\n",
    "\n",
    "    estadisticas = df.describe()\n",
    "    valores_nulos = df.isnull().sum()\n",
    "\n",
    "    return estadisticas, valores_nulos\n",
    "\n",
    "estadisticas, valores_nulos = resumen_dataset(df_snow)\n"
   ]
  },
  {
   "cell_type": "code",
   "execution_count": 13,
   "metadata": {},
   "outputs": [
    {
     "name": "stdout",
     "output_type": "stream",
     "text": [
      "           Humidity  Wind Speed (km/h)  Visibility (km)\n",
      "count  10712.000000       10712.000000     10712.000000\n",
      "mean       0.863263           9.481998         6.636570\n",
      "std        0.111007           6.532044         4.634747\n",
      "min        0.000000           0.000000         0.000000\n",
      "25%        0.810000           4.620700         2.978500\n",
      "50%        0.880000           8.194900         5.973100\n",
      "75%        0.930000          12.558000         9.982000\n",
      "max        1.000000          44.886800        16.100000\n"
     ]
    }
   ],
   "source": [
    "print(estadisticas)"
   ]
  },
  {
   "cell_type": "code",
   "execution_count": 14,
   "metadata": {},
   "outputs": [
    {
     "name": "stdout",
     "output_type": "stream",
     "text": [
      "Humidity             0\n",
      "Wind Speed (km/h)    0\n",
      "Visibility (km)      0\n",
      "dtype: int64\n"
     ]
    }
   ],
   "source": [
    "print(valores_nulos)"
   ]
  },
  {
   "cell_type": "code",
   "execution_count": 15,
   "metadata": {},
   "outputs": [],
   "source": [
    "def obtener_min_max(df, columna):\n",
    "    \n",
    "    min_val = df[columna].min()\n",
    "    max_val = df[columna].max()\n",
    "    return min_val, max_val"
   ]
  },
  {
   "cell_type": "code",
   "execution_count": 16,
   "metadata": {},
   "outputs": [],
   "source": [
    "def interpolar_columna(df, columna_origen, min_origen, max_origen, columna_destino, min_destino, max_destino):\n",
    "    df[columna_destino] = np.interp(df[columna_origen], [min_origen, max_origen], [min_destino, max_destino])\n",
    "    return df"
   ]
  },
  {
   "cell_type": "code",
   "execution_count": 17,
   "metadata": {},
   "outputs": [],
   "source": [
    "def procesar_interpolacion(df, columna_origen, columna_destino, min_destino, max_destino):\n",
    "    min_origen, max_origen = obtener_min_max(df, columna_origen)\n",
    "    return interpolar_columna(df, columna_origen, min_origen, max_origen, columna_destino, min_destino, max_destino)"
   ]
  },
  {
   "cell_type": "code",
   "execution_count": 18,
   "metadata": {},
   "outputs": [],
   "source": [
    "df_snow = procesar_interpolacion(df_snow, 'Humidity', 'Emission Rate', 500, 10000)\n",
    "df_snow = procesar_interpolacion(df_snow, 'Humidity', 'Start Size', 0.3, 1.0)\n",
    "df_snow = procesar_interpolacion(df_snow, 'Humidity', 'UserIntensity', 0, 15)"
   ]
  },
  {
   "cell_type": "code",
   "execution_count": 19,
   "metadata": {},
   "outputs": [
    {
     "data": {
      "text/html": [
       "<div>\n",
       "<style scoped>\n",
       "    .dataframe tbody tr th:only-of-type {\n",
       "        vertical-align: middle;\n",
       "    }\n",
       "\n",
       "    .dataframe tbody tr th {\n",
       "        vertical-align: top;\n",
       "    }\n",
       "\n",
       "    .dataframe thead th {\n",
       "        text-align: right;\n",
       "    }\n",
       "</style>\n",
       "<table border=\"1\" class=\"dataframe\">\n",
       "  <thead>\n",
       "    <tr style=\"text-align: right;\">\n",
       "      <th></th>\n",
       "      <th>Humidity</th>\n",
       "      <th>Wind Speed (km/h)</th>\n",
       "      <th>Visibility (km)</th>\n",
       "      <th>Emission Rate</th>\n",
       "      <th>Start Size</th>\n",
       "      <th>UserIntensity</th>\n",
       "    </tr>\n",
       "  </thead>\n",
       "  <tbody>\n",
       "    <tr>\n",
       "      <th>1562</th>\n",
       "      <td>1.00</td>\n",
       "      <td>11.0929</td>\n",
       "      <td>0.483</td>\n",
       "      <td>10000.0</td>\n",
       "      <td>1.000</td>\n",
       "      <td>15.0</td>\n",
       "    </tr>\n",
       "    <tr>\n",
       "      <th>1563</th>\n",
       "      <td>0.96</td>\n",
       "      <td>10.7387</td>\n",
       "      <td>0.322</td>\n",
       "      <td>9620.0</td>\n",
       "      <td>0.972</td>\n",
       "      <td>14.4</td>\n",
       "    </tr>\n",
       "    <tr>\n",
       "      <th>1564</th>\n",
       "      <td>1.00</td>\n",
       "      <td>7.0679</td>\n",
       "      <td>0.161</td>\n",
       "      <td>10000.0</td>\n",
       "      <td>1.000</td>\n",
       "      <td>15.0</td>\n",
       "    </tr>\n",
       "    <tr>\n",
       "      <th>1565</th>\n",
       "      <td>1.00</td>\n",
       "      <td>9.4990</td>\n",
       "      <td>0.161</td>\n",
       "      <td>10000.0</td>\n",
       "      <td>1.000</td>\n",
       "      <td>15.0</td>\n",
       "    </tr>\n",
       "    <tr>\n",
       "      <th>1566</th>\n",
       "      <td>1.00</td>\n",
       "      <td>9.4346</td>\n",
       "      <td>0.322</td>\n",
       "      <td>10000.0</td>\n",
       "      <td>1.000</td>\n",
       "      <td>15.0</td>\n",
       "    </tr>\n",
       "  </tbody>\n",
       "</table>\n",
       "</div>"
      ],
      "text/plain": [
       "      Humidity  Wind Speed (km/h)  Visibility (km)  Emission Rate  Start Size  \\\n",
       "1562      1.00            11.0929            0.483        10000.0       1.000   \n",
       "1563      0.96            10.7387            0.322         9620.0       0.972   \n",
       "1564      1.00             7.0679            0.161        10000.0       1.000   \n",
       "1565      1.00             9.4990            0.161        10000.0       1.000   \n",
       "1566      1.00             9.4346            0.322        10000.0       1.000   \n",
       "\n",
       "      UserIntensity  \n",
       "1562           15.0  \n",
       "1563           14.4  \n",
       "1564           15.0  \n",
       "1565           15.0  \n",
       "1566           15.0  "
      ]
     },
     "execution_count": 19,
     "metadata": {},
     "output_type": "execute_result"
    }
   ],
   "source": [
    "df_snow.head()"
   ]
  },
  {
   "cell_type": "code",
   "execution_count": 20,
   "metadata": {},
   "outputs": [],
   "source": [
    "df_snow.to_csv('df_snow.csv', index=False)\n"
   ]
  },
  {
   "cell_type": "code",
   "execution_count": 21,
   "metadata": {},
   "outputs": [
    {
     "name": "stdout",
     "output_type": "stream",
     "text": [
      "           Humidity  Wind Speed (km/h)  Visibility (km)  Emission Rate  \\\n",
      "count  10712.000000       10712.000000     10712.000000   10712.000000   \n",
      "mean       0.863263           9.481998         6.636570    8700.995612   \n",
      "std        0.111007           6.532044         4.634747    1054.566469   \n",
      "min        0.000000           0.000000         0.000000     500.000000   \n",
      "25%        0.810000           4.620700         2.978500    8195.000000   \n",
      "50%        0.880000           8.194900         5.973100    8860.000000   \n",
      "75%        0.930000          12.558000         9.982000    9335.000000   \n",
      "max        1.000000          44.886800        16.100000   10000.000000   \n",
      "\n",
      "         Start Size  UserIntensity  \n",
      "count  10712.000000   10712.000000  \n",
      "mean       0.904284      12.948940  \n",
      "std        0.077705       1.665105  \n",
      "min        0.300000       0.000000  \n",
      "25%        0.867000      12.150000  \n",
      "50%        0.916000      13.200000  \n",
      "75%        0.951000      13.950000  \n",
      "max        1.000000      15.000000  \n"
     ]
    }
   ],
   "source": [
    "\n",
    "print(df_snow.describe())"
   ]
  },
  {
   "cell_type": "code",
   "execution_count": 22,
   "metadata": {},
   "outputs": [
    {
     "name": "stdout",
     "output_type": "stream",
     "text": [
      "<class 'pandas.core.frame.DataFrame'>\n",
      "Index: 10712 entries, 1562 to 93506\n",
      "Data columns (total 6 columns):\n",
      " #   Column             Non-Null Count  Dtype  \n",
      "---  ------             --------------  -----  \n",
      " 0   Humidity           10712 non-null  float64\n",
      " 1   Wind Speed (km/h)  10712 non-null  float64\n",
      " 2   Visibility (km)    10712 non-null  float64\n",
      " 3   Emission Rate      10712 non-null  float64\n",
      " 4   Start Size         10712 non-null  float64\n",
      " 5   UserIntensity      10712 non-null  float64\n",
      "dtypes: float64(6)\n",
      "memory usage: 585.8 KB\n",
      "None\n"
     ]
    }
   ],
   "source": [
    "print(df_snow.info())"
   ]
  },
  {
   "cell_type": "code",
   "execution_count": 23,
   "metadata": {},
   "outputs": [
    {
     "name": "stdout",
     "output_type": "stream",
     "text": [
      "                   Humidity  Wind Speed (km/h)  Visibility (km)  \\\n",
      "Humidity           1.000000          -0.313970        -0.572148   \n",
      "Wind Speed (km/h) -0.313970           1.000000         0.264339   \n",
      "Visibility (km)   -0.572148           0.264339         1.000000   \n",
      "Emission Rate      1.000000          -0.313970        -0.572148   \n",
      "Start Size         1.000000          -0.313970        -0.572148   \n",
      "UserIntensity      1.000000          -0.313970        -0.572148   \n",
      "\n",
      "                   Emission Rate  Start Size  UserIntensity  \n",
      "Humidity                1.000000    1.000000       1.000000  \n",
      "Wind Speed (km/h)      -0.313970   -0.313970      -0.313970  \n",
      "Visibility (km)        -0.572148   -0.572148      -0.572148  \n",
      "Emission Rate           1.000000    1.000000       1.000000  \n",
      "Start Size              1.000000    1.000000       1.000000  \n",
      "UserIntensity           1.000000    1.000000       1.000000  \n"
     ]
    }
   ],
   "source": [
    "corr_matrix = df_snow.corr()\n",
    "print(corr_matrix)"
   ]
  },
  {
   "cell_type": "code",
   "execution_count": 24,
   "metadata": {},
   "outputs": [
    {
     "name": "stdout",
     "output_type": "stream",
     "text": [
      "                     Humidity  Wind Speed (km/h)  Visibility (km)  \\\n",
      "Humidity             0.012323          -0.227660        -0.294364   \n",
      "Wind Speed (km/h)   -0.227660          42.667604         8.002693   \n",
      "Visibility (km)     -0.294364           8.002693        21.480876   \n",
      "Emission Rate      117.064257       -2162.773294     -2796.460275   \n",
      "Start Size           0.008626          -0.159362        -0.206055   \n",
      "UserIntensity        0.184838          -3.414905        -4.415464   \n",
      "\n",
      "                   Emission Rate  Start Size  UserIntensity  \n",
      "Humidity            1.170643e+02    0.008626       0.184838  \n",
      "Wind Speed (km/h)  -2.162773e+03   -0.159362      -3.414905  \n",
      "Visibility (km)    -2.796460e+03   -0.206055      -4.415464  \n",
      "Emission Rate       1.112110e+06   81.944980    1755.963850  \n",
      "Start Size          8.194498e+01    0.006038       0.129387  \n",
      "UserIntensity       1.755964e+03    0.129387       2.772575  \n"
     ]
    }
   ],
   "source": [
    "cov_matrix = df_snow.cov()\n",
    "print(cov_matrix)"
   ]
  },
  {
   "cell_type": "code",
   "execution_count": 25,
   "metadata": {},
   "outputs": [
    {
     "name": "stdout",
     "output_type": "stream",
     "text": [
      "Correlación de Pearson (UserIntensity vs Wind Speed (km/h)): -0.3140, p-valor: 1.0777e-243\n",
      "Correlación de Spearman (UserIntensity vs Wind Speed (km/h)): -0.2881, p-valor: 8.8589e-204\n",
      "\n",
      "Correlación de Pearson (UserIntensity vs Visibility (km)): -0.5721, p-valor: 0.0000e+00\n",
      "Correlación de Spearman (UserIntensity vs Visibility (km)): -0.6785, p-valor: 0.0000e+00\n",
      "\n"
     ]
    }
   ],
   "source": [
    "from scipy.stats import pearsonr, spearmanr\n",
    "\n",
    "def calcular_correlaciones(df, columna_x, columnas_y):\n",
    "\n",
    "    resultados = {}\n",
    "    \n",
    "    for columna_y in columnas_y:\n",
    "\n",
    "        pearson_corr, p_value_pearson = pearsonr(df[columna_x], df[columna_y])\n",
    "\n",
    "        spearman_corr, p_value_spearman = spearmanr(df[columna_x], df[columna_y])\n",
    " \n",
    "        resultados[columna_y] = {\n",
    "            'Pearson': (pearson_corr, p_value_pearson),\n",
    "            'Spearman': (spearman_corr, p_value_spearman)\n",
    "        }\n",
    "\n",
    "        print(f\"Correlación de Pearson ({columna_x} vs {columna_y}): {pearson_corr:.4f}, p-valor: {p_value_pearson:.4e}\")\n",
    "        print(f\"Correlación de Spearman ({columna_x} vs {columna_y}): {spearman_corr:.4f}, p-valor: {p_value_spearman:.4e}\\n\")\n",
    "    \n",
    "    return resultados\n",
    "\n",
    "resultados_correlacion = calcular_correlaciones(df_snow, 'UserIntensity', ['Wind Speed (km/h)', 'Visibility (km)'])\n"
   ]
  },
  {
   "cell_type": "code",
   "execution_count": null,
   "metadata": {},
   "outputs": [],
   "source": []
  }
 ],
 "metadata": {
  "kernelspec": {
   "display_name": "base",
   "language": "python",
   "name": "python3"
  },
  "language_info": {
   "codemirror_mode": {
    "name": "ipython",
    "version": 3
   },
   "file_extension": ".py",
   "mimetype": "text/x-python",
   "name": "python",
   "nbconvert_exporter": "python",
   "pygments_lexer": "ipython3",
   "version": "3.9.17"
  }
 },
 "nbformat": 4,
 "nbformat_minor": 2
}
